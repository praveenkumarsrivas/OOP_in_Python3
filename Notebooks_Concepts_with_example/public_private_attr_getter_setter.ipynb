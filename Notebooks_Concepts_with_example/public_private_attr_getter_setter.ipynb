{
 "cells": [
  {
   "cell_type": "markdown",
   "metadata": {},
   "source": [
    "# Agenda of this notebook\n",
    "1. **Public attributes**\n",
    "2. **Private attributes**\n",
    "3. **Implementing getter and setter methods**"
   ]
  },
  {
   "cell_type": "markdown",
   "metadata": {},
   "source": [
    "### 1. Public Attributes\n",
    "Public attributes are variables that are accessible from outside the class.\n",
    "__They can be freely accessed and modified.__\n"
   ]
  },
  {
   "cell_type": "code",
   "execution_count": 3,
   "metadata": {},
   "outputs": [
    {
     "name": "stdout",
     "output_type": "stream",
     "text": [
      "Tata Harrier\n",
      "Honda\n"
     ]
    }
   ],
   "source": [
    "class Car:\n",
    "  def __init__(self,brand,model) -> None:\n",
    "    self.brand = brand #public attributes\n",
    "    self.model = model #public attributes\n",
    "\n",
    "# creating the object\n",
    "my_car = Car('Tata','Harrier')\n",
    "\n",
    "# Accessing the public attributes\n",
    "print(my_car.brand, my_car.model)\n",
    "\n",
    "# modifying the public attributes\n",
    "my_car.brand = 'Honda'\n",
    "\n",
    "# Accessing public attributes\n",
    "print(my_car.brand)\n"
   ]
  },
  {
   "cell_type": "markdown",
   "metadata": {},
   "source": [
    "### 2. Private Attributes\n",
    "Private attributes are variables that are not accessible directly from outside the class.<br>\n",
    "__They are used to encapsulate data to prevent accidental modification.__ <br>\n",
    "**Key Points:**\n",
    "- Private attributes are prefixed with a double underscore (__).\n",
    "- They are not accessible directly from outside the class.\n",
    "- Use getter and setter methods to access and modify private attributes."
   ]
  },
  {
   "cell_type": "code",
   "execution_count": 9,
   "metadata": {},
   "outputs": [
    {
     "name": "stdout",
     "output_type": "stream",
     "text": [
      "Tata\n",
      "Honda\n"
     ]
    },
    {
     "ename": "AttributeError",
     "evalue": "'Car' object has no attribute '__brand'",
     "output_type": "error",
     "traceback": [
      "\u001b[0;31m---------------------------------------------------------------------------\u001b[0m",
      "\u001b[0;31mAttributeError\u001b[0m                            Traceback (most recent call last)",
      "Cell \u001b[0;32mIn[9], line 24\u001b[0m\n\u001b[1;32m     21\u001b[0m \u001b[38;5;28mprint\u001b[39m(my_car\u001b[38;5;241m.\u001b[39mget_brand())\n\u001b[1;32m     23\u001b[0m \u001b[38;5;66;03m# Accessing public attributes\u001b[39;00m\n\u001b[0;32m---> 24\u001b[0m \u001b[38;5;28mprint\u001b[39m(\u001b[43mmy_car\u001b[49m\u001b[38;5;241;43m.\u001b[39;49m\u001b[43m__brand\u001b[49m) \u001b[38;5;66;03m# will produce the Attribute Error (AttributeError: 'Car' object has no attribute '__brand')\u001b[39;00m\n",
      "\u001b[0;31mAttributeError\u001b[0m: 'Car' object has no attribute '__brand'"
     ]
    }
   ],
   "source": [
    "class Car:\n",
    "  def __init__(self,brand,model) -> None:\n",
    "    self.__brand = brand #private attributes\n",
    "    self.__model = model #private attributes\n",
    "  \n",
    "  def get_brand(self):\n",
    "    return self.__brand\n",
    "  \n",
    "  def set_brand(self,brand):\n",
    "    self.__brand = brand\n",
    "\n",
    "  \n",
    "# creating the object\n",
    "my_car = Car('Tata','Harrier')\n",
    "\n",
    "# Accessing the private attributes\n",
    "print(my_car.get_brand())\n",
    "\n",
    "# modifying the private attributes\n",
    "my_car.set_brand('Honda')\n",
    "print(my_car.get_brand())\n",
    "\n",
    "# Accessing public attributes\n",
    "print(my_car.__brand) # will produce the Attribute Error (AttributeError: 'Car' object has no attribute '__brand')\n"
   ]
  },
  {
   "cell_type": "code",
   "execution_count": 10,
   "metadata": {},
   "outputs": [
    {
     "name": "stdout",
     "output_type": "stream",
     "text": [
      "2020 Toyota corolla\n",
      "2021 Toyota corolla\n"
     ]
    },
    {
     "ename": "AttributeError",
     "evalue": "'Car' object has no attribute '__model'",
     "output_type": "error",
     "traceback": [
      "\u001b[0;31m---------------------------------------------------------------------------\u001b[0m",
      "\u001b[0;31mAttributeError\u001b[0m                            Traceback (most recent call last)",
      "Cell \u001b[0;32mIn[10], line 20\u001b[0m\n\u001b[1;32m     17\u001b[0m car\u001b[38;5;241m.\u001b[39mset_year(\u001b[38;5;241m2021\u001b[39m)\n\u001b[1;32m     18\u001b[0m \u001b[38;5;28mprint\u001b[39m(car\u001b[38;5;241m.\u001b[39mget_info())\n\u001b[0;32m---> 20\u001b[0m \u001b[38;5;28mprint\u001b[39m(\u001b[43mcar\u001b[49m\u001b[38;5;241;43m.\u001b[39;49m\u001b[43m__model\u001b[49m)\n",
      "\u001b[0;31mAttributeError\u001b[0m: 'Car' object has no attribute '__model'"
     ]
    }
   ],
   "source": [
    "# another example\n",
    "\n",
    "class Car:\n",
    "  def __init__(self, make,model, year) -> None:\n",
    "    self.__make = make #private attributes\n",
    "    self.__model = model #private attributes\n",
    "    self.__year = year #private attributes\n",
    "\n",
    "  def get_info(self):\n",
    "    return f\"{self.__year} {self.__make} {self.__model}\"\n",
    "  \n",
    "  def set_year(self,year):\n",
    "    if year > 1885:\n",
    "      self.__year = year\n",
    "  \n",
    "car = Car(\"Toyota\",\"corolla\",2020)\n",
    "print(car.get_info())\n",
    "\n",
    "car.set_year(2021)\n",
    "print(car.get_info())\n",
    "\n",
    "print(car.__model)  # trying to access the private attribute from outside "
   ]
  },
  {
   "cell_type": "markdown",
   "metadata": {},
   "source": []
  },
  {
   "cell_type": "markdown",
   "metadata": {},
   "source": [
    "## Getter and Setter methods"
   ]
  },
  {
   "cell_type": "markdown",
   "metadata": {},
   "source": [
    "#### **Getter** used to access the value of a private attribute."
   ]
  },
  {
   "cell_type": "code",
   "execution_count": 11,
   "metadata": {},
   "outputs": [
    {
     "name": "stdout",
     "output_type": "stream",
     "text": [
      "20000\n"
     ]
    }
   ],
   "source": [
    "class Employee:\n",
    "  def __init__(self, name, salary) -> None:\n",
    "    self.__name = name #private attributes\n",
    "    self.__salary = salary #private attributes\n",
    "\n",
    "  def get_salary(self): #getter method\n",
    "    return self.__salary\n",
    "  \n",
    "emp = Employee(\"Bob\",20000)\n",
    "print(emp.get_salary()) #using getter methods"
   ]
  },
  {
   "cell_type": "markdown",
   "metadata": {},
   "source": [
    "### **Setter** Used to modify the value of a private attribute."
   ]
  },
  {
   "cell_type": "code",
   "execution_count": 16,
   "metadata": {},
   "outputs": [
    {
     "name": "stdout",
     "output_type": "stream",
     "text": [
      "20000\n",
      "Updated salary;  30000\n"
     ]
    }
   ],
   "source": [
    "class Employee:\n",
    "  def __init__(self, name, salary) -> None:\n",
    "    self.__name = name #private attribute\n",
    "    self.__salary = salary #private attribute\n",
    "\n",
    "  def get_salary(self):\n",
    "    return self.__salary\n",
    "  \n",
    "  def set_salary(self,salary): # setter method\n",
    "    if salary > 0:\n",
    "      self.__salary = salary\n",
    "\n",
    "emp = Employee(\"Bob\",20000)\n",
    "print(emp.get_salary())\n",
    "emp.set_salary(30000)\n",
    "print(\"Updated salary; \",emp.get_salary())"
   ]
  },
  {
   "cell_type": "markdown",
   "metadata": {},
   "source": [
    "#### When to Use Getter and Setter methods\n",
    "-\tUse private attributes to encapsulate data and restrict access.\n",
    "-\tSuitable for attributes that are sensitive, critical, or require validation before being modified.\n",
    "\n",
    "#### Best Practices\n",
    "\n",
    "-\tUse public attributes for general data that does not require protection.\n",
    "-\tUse private attributes for sensitive data and ensure access control via getter and setter methods.\n",
    "-\tMaintain consistency in attribute naming to enhance code readability and maintainability."
   ]
  },
  {
   "cell_type": "markdown",
   "metadata": {},
   "source": [
    "# Getter and Setter methods using Property Decorators\n",
    "\n",
    "## Introduction\n",
    "\n",
    "Property decorators in Python provide a more elegant way to define getters and setters. They allow for the encapsulation of private attributes while providing a public interface for accessing and modifying them.\n",
    "\n",
    "## Property Decorator\n",
    "\n",
    "### Definition\n",
    "- The `@property` decorator is used to define a method as a getter.\n",
    "- `@<property>.setter` is used to define a setter for the property.\n"
   ]
  },
  {
   "cell_type": "code",
   "execution_count": 1,
   "metadata": {},
   "outputs": [
    {
     "name": "stdout",
     "output_type": "stream",
     "text": [
      "praveen\n",
      "Aman\n",
      "29\n",
      "30\n"
     ]
    }
   ],
   "source": [
    "class Person:\n",
    "  def __init__(self, name, age) -> None:\n",
    "    self.__name = name # private attribute\n",
    "    self.__age = age # private attribute\n",
    "\n",
    "  @property #getter\n",
    "  def name(self):\n",
    "    return self.__name\n",
    "  \n",
    "  @name.setter #setter\n",
    "  def name(self,name):\n",
    "    self.__name = name\n",
    "\n",
    "  @property #getter\n",
    "  def age(self):\n",
    "    return self.__age\n",
    "  \n",
    "  @age.setter #setter\n",
    "  def age(self,age):\n",
    "    if age>0:\n",
    "      self.__age = age\n",
    "    else:\n",
    "      raise ValueError(\"Age must be positive number\")\n",
    "    \n",
    "# usage\n",
    "person = Person(\"praveen\",29)\n",
    "print(person.name)\n",
    "person.name = 'Aman'\n",
    "print(person.name)\n",
    "\n",
    "print(person.age)\n",
    "person.age=30\n",
    "print(person.age)\n",
    "\n",
    "  \n",
    "\n",
    " "
   ]
  },
  {
   "cell_type": "markdown",
   "metadata": {},
   "source": [
    "#### Benefits of Using Property Decorators\n",
    "\n",
    "- Encapsulation: Allows encapsulating private attributes and controlling access to them.\n",
    "- Validation: Provides an opportunity to validate data before modifying it.\n",
    "- Readability: Makes the code more readable by using attributes instead of explicit getter and setter methods.\n",
    "- Consistency: Ensures consistent access and modification of attributes."
   ]
  },
  {
   "cell_type": "code",
   "execution_count": null,
   "metadata": {},
   "outputs": [],
   "source": []
  }
 ],
 "metadata": {
  "kernelspec": {
   "display_name": "Python 3",
   "language": "python",
   "name": "python3"
  },
  "language_info": {
   "codemirror_mode": {
    "name": "ipython",
    "version": 3
   },
   "file_extension": ".py",
   "mimetype": "text/x-python",
   "name": "python",
   "nbconvert_exporter": "python",
   "pygments_lexer": "ipython3",
   "version": "3.12.3"
  }
 },
 "nbformat": 4,
 "nbformat_minor": 2
}
