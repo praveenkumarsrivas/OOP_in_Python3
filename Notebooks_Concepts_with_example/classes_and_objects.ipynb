{
 "cells": [
  {
   "cell_type": "markdown",
   "metadata": {},
   "source": [
    "# Agenda of this Notebook\n",
    "0. **Why OOPS required?**\n",
    "1. **Definition of classes and objects**\n",
    "2. **Creating and using classes**\n",
    "3. **Instance variables and methods**\n",
    "4. **The __init__ method**"
   ]
  },
  {
   "cell_type": "markdown",
   "metadata": {
    "vscode": {
     "languageId": "plaintext"
    }
   },
   "source": [
    "## 0. Why OOPs required?"
   ]
  },
  {
   "cell_type": "markdown",
   "metadata": {},
   "source": [
    "### 1. Modularity\n",
    "\n",
    "- **Definition**: OOP allows breaking down complex problems into smaller, manageable components.\n",
    "- **Example**: In a machine learning project, you can separate data preprocessing, model training, and evaluation into different classes.\n",
    "\n",
    "### 2. Reusability\n",
    "\n",
    "- **Definition**: Once a class is written, it can be reused across different projects.\n",
    "- **Example**: A `DataLoader` class can be reused for different datasets in various ML projects.\n",
    "\n",
    "### 3. Maintainability\n",
    "\n",
    "- **Definition**: OOP makes it easier to maintain and update code.\n",
    "- **Example**: Updating a method in a class automatically updates the behavior across all instances where the class is used.\n",
    "\n",
    "### 4. Scalability\n",
    "\n",
    "- **Definition**: OOP supports the creation of scalable applications.\n",
    "- **Example**: As projects grow, new classes and objects can be added without affecting existing code.\n",
    "\n",
    "### 5. Abstraction\n",
    "\n",
    "- **Definition**: OOP allows for creating complex systems by hiding unnecessary details and showing only the relevant parts.\n",
    "- **Example**: A `Model` class might hide the details of various machine learning algorithms and provide a simple interface for training and prediction.\n",
    "\n",
    "### 6. Encapsulation\n",
    "\n",
    "- **Definition**: Encapsulation helps in bundling the data with the methods that operate on the data.\n",
    "- **Example**: In a `NeuralNetwork` class, the weights and biases are encapsulated within the class, ensuring controlled access and modifications.\n",
    "\n",
    "### 7. Inheritance\n",
    "\n",
    "- **Definition**: Inheritance allows new classes to adopt the properties and behaviors of existing classes.\n",
    "- **Example**: A `ConvolutionalNeuralNetwork` class can inherit from a `NeuralNetwork` class, extending its functionality.\n",
    "\n",
    "### 8. Polymorphism\n",
    "\n",
    "- **Definition**: Polymorphism allows methods to do different things based on the object it is acting upon.\n",
    "- **Example**: A `train` method might behave differently when called on a `LinearRegression` class compared to a `RandomForest` class."
   ]
  },
  {
   "cell_type": "markdown",
   "metadata": {},
   "source": [
    "## 1. Definition of Classes and Objects\n",
    "\n",
    "### Classes\n",
    "\n",
    "- **Definition**:\n",
    "  A class is a blueprint or prototype for creating objects. It defines a set of attributes that characterize any object of the class. Classes encapsulate data and functions that operate on the data. These functions are called methods.\n",
    "\n",
    "- **Components of a Class**:\n",
    "  - **Class Name**: The name of the class.\n",
    "  - **Attributes**: Variables that hold data for the class.\n",
    "  - **Methods**: Functions that define behaviors of the class.\n",
    "\n",
    "### Objects\n",
    "\n",
    "- **Definition**:\n",
    "  An object is an instance of a class. When a class is defined, no memory is allocated until an object of that class is instantiated.\n"
   ]
  },
  {
   "cell_type": "code",
   "execution_count": 4,
   "metadata": {},
   "outputs": [
    {
     "name": "stdout",
     "output_type": "stream",
     "text": [
      "Puppy is 10 years old his species is Geman shepheard\n",
      "Puppy says whooff whoof\n"
     ]
    }
   ],
   "source": [
    "# example of the class\n",
    "class Dog:\n",
    "  #class attributes\n",
    "  species = 'Geman shepheard'\n",
    "\n",
    "  #initializer/instance attributes\n",
    "  def __init__(self, name, age):\n",
    "    self.name = name\n",
    "    self.age = age\n",
    "\n",
    "  #method\n",
    "  def description(self):\n",
    "    return f\"{self.name} is {self.age} years old his species is {self.species}\"\n",
    "\n",
    "  # method \n",
    "  def speak(self,sound):\n",
    "    return f\"{self.name} says {sound}\"\n",
    "\n",
    "# creating the object\n",
    "my_dog = Dog(\"Puppy\",10)\n",
    "print(my_dog.description())\n",
    "print(my_dog.speak(\"whooff whoof\"))"
   ]
  },
  {
   "cell_type": "markdown",
   "metadata": {},
   "source": [
    "\n",
    "## 2. Creating and Using Classes\n",
    "\n",
    "### Creating a Class\n",
    "\n",
    "- **Definition**:\n",
    "  To create a class, use the `class` keyword followed by the class name and a colon. The body of the class contains the class attributes and methods.\n",
    "\n",
    "### Using a Class\n",
    "\n",
    "- **Creating an Object**:\n",
    "  Instantiate a class by calling the class name followed by parentheses. Pass any arguments required by the `__init__` method.\n",
    "\n",
    "- **Accessing Attributes and Methods**:\n",
    "  Use the dot notation to access the attributes and methods of the object.\n"
   ]
  },
  {
   "cell_type": "code",
   "execution_count": 5,
   "metadata": {},
   "outputs": [
    {
     "name": "stdout",
     "output_type": "stream",
     "text": [
      "2020 Toyota Corolla\n"
     ]
    }
   ],
   "source": [
    "# Example of creating a class and using it\n",
    "class Car:\n",
    "  #class attribute\n",
    "  wheels = 4\n",
    "\n",
    "  #initializer /instance attributes\n",
    "  def __init__(self,make,model,year):\n",
    "    self.make = make\n",
    "    self.model = model\n",
    "    self.year = year\n",
    "\n",
    "  #method\n",
    "  def description(self):\n",
    "    return f\"{self.year} {self.make} {self.model}\"\n",
    "  \n",
    "# creating object of the class\n",
    "my_car = Car(\"Toyota\", \"Corolla\",2020)\n",
    "print(my_car.description())"
   ]
  },
  {
   "cell_type": "markdown",
   "metadata": {},
   "source": [
    "\n",
    "## 3. Instance Variables and Methods\n",
    "\n",
    "### Instance Variables\n",
    "\n",
    "- **Definition**:\n",
    "  Instance variables are attributes that are unique to each instance of a class. They are defined within the `__init__` method of the class.\n",
    "\n",
    "### Methods\n",
    "\n",
    "- **Definition**:\n",
    "  Methods are functions defined inside a class that describe the behaviors of the objects. They always take `self` as their first parameter, which refers to the instance calling the method.\n"
   ]
  },
  {
   "cell_type": "code",
   "execution_count": 9,
   "metadata": {},
   "outputs": [
    {
     "name": "stdout",
     "output_type": "stream",
     "text": [
      "Wings of the fire by Dr. A.P.J. abdul kalam\n"
     ]
    }
   ],
   "source": [
    "# Example of instance variables and methods\n",
    "class Book:\n",
    "  def __init__(self,title,author):\n",
    "    self.title = title\n",
    "    self.author = author\n",
    "\n",
    "  def description(self):\n",
    "    return f\"{self.title} by {self.author}\"\n",
    "  \n",
    "\n",
    "# creating object of the class\n",
    "my_book = Book(\"Wings of the fire\",\"Dr. A.P.J. abdul kalam\")\n",
    "print(my_book.description())"
   ]
  },
  {
   "cell_type": "markdown",
   "metadata": {},
   "source": [
    "\n",
    "## 4. The `__init__` Method\n",
    "\n",
    "### Definition\n",
    "\n",
    "- **Definition**:\n",
    "  The `__init__` method is a special method in Python classes. It is called when an object is instantiated and is used to initialize the object's attributes.\n"
   ]
  },
  {
   "cell_type": "code",
   "execution_count": 12,
   "metadata": {},
   "outputs": [
    {
     "name": "stdout",
     "output_type": "stream",
     "text": [
      "Employee: Vipin\n",
      "Salary: 19.5 LPA\n"
     ]
    }
   ],
   "source": [
    "# example for __init__ methos\n",
    "class Employee:\n",
    "  def __init__(self,name,salary):\n",
    "    self.name = name\n",
    "    self.salary = salary\n",
    "\n",
    "  def details(self):\n",
    "    return f\"Employee: {self.name}\\nSalary: {self.salary} LPA\"\n",
    "  \n",
    "# creating object of the class\n",
    "employee = Employee(\"Vipin\",19.5)\n",
    "print(employee.details())"
   ]
  }
 ],
 "metadata": {
  "kernelspec": {
   "display_name": "Python 3",
   "language": "python",
   "name": "python3"
  },
  "language_info": {
   "codemirror_mode": {
    "name": "ipython",
    "version": 3
   },
   "file_extension": ".py",
   "mimetype": "text/x-python",
   "name": "python",
   "nbconvert_exporter": "python",
   "pygments_lexer": "ipython3",
   "version": "3.12.3"
  }
 },
 "nbformat": 4,
 "nbformat_minor": 2
}
